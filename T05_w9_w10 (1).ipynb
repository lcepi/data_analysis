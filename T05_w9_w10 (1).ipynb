{
  "metadata": {
    "toc": {
      "base_numbering": 1,
      "nav_menu": {},
      "number_sections": true,
      "sideBar": true,
      "skip_h1_title": false,
      "title_cell": "Table of Contents",
      "title_sidebar": "Contents",
      "toc_cell": true,
      "toc_position": {},
      "toc_section_display": true,
      "toc_window_display": false
    },
    "varInspector": {
      "cols": {
        "lenName": 16,
        "lenType": 16,
        "lenVar": 40
      },
      "kernels_config": {
        "python": {
          "delete_cmd_postfix": "",
          "delete_cmd_prefix": "del ",
          "library": "var_list.py",
          "varRefreshCmd": "print(var_dic_list())"
        },
        "r": {
          "delete_cmd_postfix": ") ",
          "delete_cmd_prefix": "rm(",
          "library": "var_list.r",
          "varRefreshCmd": "cat(var_dic_list()) "
        }
      },
      "types_to_exclude": [
        "module",
        "function",
        "builtin_function_or_method",
        "instance",
        "_Feature"
      ],
      "window_display": false
    },
    "kernelspec": {
      "name": "python",
      "display_name": "Python (Pyodide)",
      "language": "python"
    },
    "language_info": {
      "codemirror_mode": {
        "name": "python",
        "version": 3
      },
      "file_extension": ".py",
      "mimetype": "text/x-python",
      "name": "python",
      "nbconvert_exporter": "python",
      "pygments_lexer": "ipython3",
      "version": "3.8"
    }
  },
  "nbformat_minor": 5,
  "nbformat": 4,
  "cells": [
    {
      "cell_type": "markdown",
      "source": "<h1>Table of Contents<span class=\"tocSkip\"></span></h1>\n<div class=\"toc\"><ul class=\"toc-item\"></ul></div>",
      "metadata": {
        "toc": true
      },
      "id": "75ba224b"
    },
    {
      "cell_type": "markdown",
      "source": "<p style=\"font-size:125%; color:#119988; background-color:#EEE\">Задание 1</p>\n\nСоздайте словарь *food* продуктов питания, ключами которого являются наименования, а значениями цены. Исходные данные для словаря:\n```\ntitles=('apples,grape,bananas,watermelons,tomatoes'.split(','))\nprices=(20,25,15,11,15)\n```",
      "metadata": {},
      "id": "edbef882"
    },
    {
      "cell_type": "code",
      "source": "# 1\n\ntitles = 'apples,grape,bananas,watermelons,tomatoes'.split(',')\nprices = (20, 25, 15, 11, 15)\n\nfood = dict(zip(titles, prices))\n\n",
      "metadata": {},
      "execution_count": 1,
      "outputs": [],
      "id": "7befff06"
    },
    {
      "cell_type": "markdown",
      "source": "<p style=\"font-size:125%; color:#119988; background-color:#EEE\">Задание 2</p>\n\nУдалите из словаря *food* арбузы (watermelons) и добавьте дыни (melons) по той же цене.",
      "metadata": {},
      "id": "815e7957"
    },
    {
      "cell_type": "code",
      "source": "# 2\ntitles = 'apples,grape,bananas,watermelons,tomatoes'.split(',')\nprices = (20, 25, 15, 11, 15)\n\nfood = dict(zip(titles, prices))\n\nif 'watermelons' in food:\n    del food['watermelons']\n    food['melons'] = prices[titles.index('watermelons')]\n\nprint(food)\n\n",
      "metadata": {},
      "execution_count": 19,
      "outputs": [
        {
          "execution_count": 19,
          "output_type": "execute_result",
          "data": {
            "text/plain": [
              "{'apples': 20, 'grape': 25, 'bananas': 15, 'tomatoes': 15, 'melons': 11}"
            ]
          },
          "metadata": {}
        }
      ],
      "id": "50964e18"
    },
    {
      "cell_type": "markdown",
      "source": "<p style=\"font-size:125%; color:#119988; background-color:#EEE\">Задание 3</p>\n\nВсе цены снижены на 15%. Обновите словарь продуктов.",
      "metadata": {},
      "id": "09da5372"
    },
    {
      "cell_type": "code",
      "source": "# titles = 'apples,grape,bananas,watermelons,tomatoes'.split(',')\nprices = (20, 25, 15, 11, 15)\n\nfood = dict(zip(titles, prices))\n\nif 'watermelons' in food:\n    del food['watermelons']\n    food['melons'] = prices[titles.index('watermelons')]\n\nfood = {title: price * 0.85 for title, price in food.items()}\n\nprint(food)\n\n",
      "metadata": {},
      "execution_count": 2,
      "outputs": [],
      "id": "b88d99a1"
    },
    {
      "cell_type": "markdown",
      "source": "<p style=\"font-size:125%; color:#119988; background-color:#EEE\">Задание 4</p>\n\nПоменяйте местами цены и названия, пусть ключами словаря станут цены, а значениями - названия. Изменилось ли при этом количество элементов словаря? Если да, то объясните, почему.",
      "metadata": {
        "jupyter": {
          "source_hidden": true
        },
        "tags": []
      },
      "id": "ea04b336"
    },
    {
      "cell_type": "code",
      "source": "# 4\n",
      "metadata": {},
      "execution_count": 3,
      "outputs": [],
      "id": "968cf531"
    },
    {
      "cell_type": "markdown",
      "source": "<p style=\"font-size:125%; color:#119988; background-color:#EEE\">Задание 5</p>\n\nНапишите функцию, возвращающую максимальную степень некоторого натурального числа $k$ (например $k=2$), меньшую данного натурального числа $n$. Пусть $k$ и $n$ будут параметрами функции.",
      "metadata": {},
      "id": "ef49adb3"
    },
    {
      "cell_type": "code",
      "source": "# 5\n\ndef max_power(k, n):\n    power = 0\n    result = k ** power\n\n    while result < n:\n        power += 1\n        result = k ** power\n\n    return power - 1\n\n# Пример использования\nk_value = int(input(\"Введите значение k: \"))\nn_value = int(input(\"Введите значение n: \"))\nresult = max_power(k_value, n_value)\nprint(f\"Максимальная степень {k_value}, меньшая чем {n_value}: {result}\")\n",
      "metadata": {},
      "execution_count": 4,
      "outputs": [],
      "id": "a56f047a"
    },
    {
      "cell_type": "markdown",
      "source": "<p style=\"font-size:125%; color:#119988; background-color:#EEE\">Задание 6</p>\n\nСоздайте функцию, возвращающую ряд Фибоначчи до определенного натурального числа $n$.",
      "metadata": {},
      "id": "dafc63f5"
    },
    {
      "cell_type": "code",
      "source": "# 6\n#Было в проекте эйлера ! :)\ndef fibonacci_series(n):\n    fib_series = [0, 1]\n    while fib_series[-1] + fib_series[-2] <= n:\n        fib_series.append(fib_series[-1] + fib_series[-2])\n    return fib_series\n\n# Пример использования\nn_value = int(input(\"Введите натуральное число n: \"))\nresult = fibonacci_series(n_value)\nprint(f\"Ряд Фибоначчи до {n_value}: {result}\")\n",
      "metadata": {},
      "execution_count": 5,
      "outputs": [],
      "id": "de7f401f"
    },
    {
      "cell_type": "markdown",
      "source": "<p style=\"font-size:125%; color:#119988; background-color:#EEE\">Задание 7</p>\n\nСоздайте рекурсивную функцию, возвращающую ряд Фибоначчи до определенного натурального числа $n$.",
      "metadata": {},
      "id": "119e660a"
    },
    {
      "cell_type": "code",
      "source": "# 7\ndef fibonacci_series(n):\n    fib_series = [0, 1]\n    while fib_series[-1] + fib_series[-2] <= n:\n        fib_series.append(fib_series[-1] + fib_series[-2])\n    return fib_series\n\n# Пример использования\nn_value = int(input(\"Введите натуральное число n: \"))\nresult = fibonacci_series(n_value)\nprint(f\"Ряд Фибоначчи до {n_value}: {result}\")\n\n",
      "metadata": {},
      "execution_count": 6,
      "outputs": [],
      "id": "31838c27"
    },
    {
      "cell_type": "markdown",
      "source": "<p style=\"font-size:125%; color:#119988; background-color:#EEE\">Задание 8</p>\n\nСоздайте функцию, которая проверяет, является ли число членом ряда Фибоначчи.",
      "metadata": {},
      "id": "ec8400ea"
    },
    {
      "cell_type": "code",
      "source": "# 8\ndef is_fibonacci_number(number):\n    a, b = 0, 1\n    while b < number:\n        a, b = b, a + b\n    return b == number\n\n# Пример использования\nnum_value = int(input(\"Введите число для проверки: \"))\nresult = is_fibonacci_number(num_value)\nprint(f\"{num_value} {'является' if result else 'не является'} членом ряда Фибоначчи.\")\n\n",
      "metadata": {},
      "execution_count": null,
      "outputs": [],
      "id": "a8715c73"
    },
    {
      "cell_type": "markdown",
      "source": "<p style=\"font-size:125%; color:#119988; background-color:#EEE\">Задание 9</p>\n\nСтудентка Александра родилась 11 июня 2003 года в 12 часов дня. Рассчитать время в минутах с момента рождения.",
      "metadata": {},
      "id": "eed2994e"
    },
    {
      "cell_type": "code",
      "source": "# 9\nfrom datetime import datetime\n\nbirth_date = datetime(2003, 6, 11, 12, 0, 0)\ncurrent_date = datetime.now()\ntime_difference = current_date - birth_date\ntime_in_minutes = int(time_difference.total_seconds() / 60)\n\nprint(f\"Время с момента рождения: {time_in_minutes} минут\")\n\n",
      "metadata": {},
      "execution_count": 7,
      "outputs": [],
      "id": "6d81786f"
    }
  ]
}