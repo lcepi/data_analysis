{
  "metadata": {
    "toc": {
      "base_numbering": 1,
      "nav_menu": {},
      "number_sections": true,
      "sideBar": true,
      "skip_h1_title": false,
      "title_cell": "Table of Contents",
      "title_sidebar": "Contents",
      "toc_cell": true,
      "toc_position": {},
      "toc_section_display": true,
      "toc_window_display": false
    },
    "varInspector": {
      "cols": {
        "lenName": 16,
        "lenType": 16,
        "lenVar": 40
      },
      "kernels_config": {
        "python": {
          "delete_cmd_postfix": "",
          "delete_cmd_prefix": "del ",
          "library": "var_list.py",
          "varRefreshCmd": "print(var_dic_list())"
        },
        "r": {
          "delete_cmd_postfix": ") ",
          "delete_cmd_prefix": "rm(",
          "library": "var_list.r",
          "varRefreshCmd": "cat(var_dic_list()) "
        }
      },
      "types_to_exclude": [
        "module",
        "function",
        "builtin_function_or_method",
        "instance",
        "_Feature"
      ],
      "window_display": false
    },
    "kernelspec": {
      "name": "python",
      "display_name": "Python (Pyodide)",
      "language": "python"
    },
    "language_info": {
      "codemirror_mode": {
        "name": "python",
        "version": 3
      },
      "file_extension": ".py",
      "mimetype": "text/x-python",
      "name": "python",
      "nbconvert_exporter": "python",
      "pygments_lexer": "ipython3",
      "version": "3.8"
    }
  },
  "nbformat_minor": 4,
  "nbformat": 4,
  "cells": [
    {
      "cell_type": "markdown",
      "source": "<h1>Table of Contents<span class=\"tocSkip\"></span></h1>\n<div class=\"toc\"><ul class=\"toc-item\"><li><span><a href=\"#Тема-3.-Функции\" data-toc-modified-id=\"Тема-3.-Функции-1\"><span class=\"toc-item-num\">1&nbsp;&nbsp;</span>Тема 3. Функции</a></span></li><li><span><a href=\"#Задания\" data-toc-modified-id=\"Задания-2\"><span class=\"toc-item-num\">2&nbsp;&nbsp;</span>Задания</a></span></li></ul></div>",
      "metadata": {
        "toc": true
      }
    },
    {
      "cell_type": "markdown",
      "source": "\n# Тема 3. Функции",
      "metadata": {}
    },
    {
      "cell_type": "markdown",
      "source": "# Задания\n\nВыполните задания\n\n",
      "metadata": {}
    },
    {
      "cell_type": "markdown",
      "source": "1. Имеется список из 20 случайных чисел от 0 до 100. Напишите функцию, которая разбивает этот список на $n$ списков по $k$ элементов и включает все эти списки в новый список. Используйте $k$ в качестве параметра функции.\n\n2. Напишите функцию, вычисляющую факториал числа, передаваемого в качестве параметра.\n\n3. Написать функцию умножения, принимающую от одного до трех параметров. Функцию вызвать с приведенными ниже аргументами. Для случая a4 выбрать 3 первых и 3 последних значения.\n```\na1 = (15, 10 ,5)\na2 = (3, 1)\na3 = [2, 35, 55]\na4 = (5, 10 ,15, 20)\n```\n\n4. Напишите функцию, которая для заданного радиуса r вычисляет площадь круга и длину окружности. Функция возвращает кортеж из 2 значений.\n\n5. Реализовать функции для выполнения четырех арифметических операций, преобразующих целые числа в целое число. Создать словарь с функциями исоответствующими им симв олами операций. Для двух заранее заданных целых чисел (например, 25 и 4) выполнить выбранную пользователем арифметическую операцию.\n\n6. Написать калькулятор для строковых выражений вида '<число> <операция> <число>', где <число> - целое число, например 113, <арифметическая операция> - одна из операций `+,-,*,//,%,^`. Пример: `calc('13 - 5') -> 8`\n\n7. Написать функцию, которая преобразует целое число (от 0 до 999) из текстового представления на русском языке в число типа int. Пример: `to_int('тридцать три') -> 33`\n\n8. Написать функцию, которая преобразует целое число (от 0 до 999) из текстового представления на русском языке в число типа int. И сообщает об ошибках (выводит на экран описание типа ошибки и возвращает число -1). Пример: to_int('тридцать три') -> 33 Пример: to_int(\"сто сорок тридцать два сто\") -> -1 Вывод: тридцать - некорректное расположение в числе.",
      "metadata": {}
    },
    {
      "cell_type": "code",
      "source": "#ЗАДАНИЕ 1\nimport random\n\ndef split_list(input_list, k):\n    return [input_list[i:i + k] for i in range(0, len(input_list), k)]\n\noriginal_list = [random.randint(0, 100) for _ in range(20)]\n\nprint(\"Оригинальный список:\")\nprint(original_list)\n\nk = int(input(\"Введите размер подсписков k: \"))\n\nresult_lists = split_list(original_list, k)\n\nprint(f\"\\nСписок из подсписков по {k} элементов:\")\nfor sublist in result_lists:\n    print(sublist)\n",
      "metadata": {},
      "execution_count": null,
      "outputs": []
    },
    {
      "cell_type": "code",
      "source": "#ЗАДАНИЕ 2 РЕКУРСИЯ\ndef factorial(n):\n    if n == 0 or n == 1:\n        return 1\n    else:\n        return n * factorial(n-1)\n\n# Ввод числа от пользователя\nnumber = int(input(\"Введите число для вычисления факториала: \"))\n\n# Вычисление и вывод результата\nresult = factorial(number)\nprint(f\"Факториал числа {number} равен {result}\")\n",
      "metadata": {},
      "execution_count": null,
      "outputs": []
    },
    {
      "cell_type": "code",
      "source": "#Задание 3\ndef multiplication(*args):\n    result = 1\n    for arg in args:\n        result *= arg\n    return result\n\na1 = (15, 10, 5)\na2 = (3, 1)\na3 = [2, 35, 55]\na4 = (5, 10, 15, 20)\n\nresult_a1 = multiplication(*a1)\nresult_a2 = multiplication(*a2)\nresult_a3 = multiplication(*a3)\nresult_a4 = multiplication(*a4[:3]) * multiplication(*a4[-3:])\n\nprint(f\"Результат умножения для a1: {result_a1}\")\nprint(f\"Результат умножения для a2: {result_a2}\")\nprint(f\"Результат умножения для a3: {result_a3}\")\nprint(f\"Результат умножения для a4 (первые 3 и последние 3): {result_a4}\")\n\n",
      "metadata": {},
      "execution_count": null,
      "outputs": []
    },
    {
      "cell_type": "code",
      "source": "#Задание 4\nimport math\n\ndef calculate_circle_properties(radius):\n    area = math.pi * radius**2\n    circumference = 2 * math.pi * radius\n    return area, circumference\n\n# Пример использования функции\nradius = float(input(\"Введите радиус круга: \"))\nresult = calculate_circle_properties(radius)\n\nprint(f\"Площадь круга: {result[0]:.2f}\")\nprint(f\"Длина окружности: {result[1]:.2f}\")\n\n",
      "metadata": {},
      "execution_count": null,
      "outputs": []
    },
    {
      "cell_type": "code",
      "source": "#Задание 5\ndef add(x, y):\n    return x + y\n\ndef subtract(x, y):\n    return x - y\n\ndef multiply(x, y):\n    return x * y\n\ndef divide(x, y):\n    if y != 0:\n        return x / y\n    else:\n        return \"Ошибка: деление на ноль\"\n\noperations = {\n    '+': add,\n    '-': subtract,\n    '*': multiply,\n    '/': divide\n}\n\nnum1 = 25\nnum2 = 4\n\noperation_symbol = input(\"Выберите операцию (+, -, *, /): \")\n\nif operation_symbol in operations:\n    result = operations[operation_symbol](num1, num2)\n    print(f\"Результат {num1} {operation_symbol} {num2} = {result}\")\nelse:\n    print(\"Ошибка: неверная операция\")\n\n",
      "metadata": {},
      "execution_count": null,
      "outputs": []
    },
    {
      "cell_type": "code",
      "source": "#Задание 6\ndef calc(expression):\n    try:\n        num1, op, num2 = expression.split()\n        num1 = int(num1)\n        num2 = int(num2)\n\n        if op == '+':\n            result = num1 + num2\n        elif op == '-':\n            result = num1 - num2\n        elif op == '*':\n            result = num1 * num2\n        elif op == '//':\n            result = num1 // num2\n        elif op == '%':\n            result = num1 % num2\n        elif op == '^':\n            result = num1 ** num2\n        else:\n            return \"Ошибка: неверная операция\"\n\n        return result\n\n    except ValueError:\n        return \"Ошибка: неверный формат ввода\"\n\nexpression = input(\"Введите строковое выражение (например, '13 - 5'): \")\nresult = calc(expression)\nprint(f\"Результат: {result}\")\n",
      "metadata": {},
      "execution_count": null,
      "outputs": []
    },
    {
      "cell_type": "code",
      "source": "#Задание 7\ndef to_int(text_number):\n    number_words = {\n        'ноль': 0, 'один': 1, 'два': 2, 'три': 3, 'четыре': 4, 'пять': 5, 'шесть': 6, 'семь': 7, 'восемь': 8, 'девять': 9,\n        'десять': 10, 'одиннадцать': 11, 'двенадцать': 12, 'тринадцать': 13, 'четырнадцать': 14, 'пятнадцать': 15,\n        'шестнадцать': 16, 'семнадцать': 17, 'восемнадцать': 18, 'девятнадцать': 19, 'двадцать': 20, 'тридцать': 30,\n        'сорок': 40, 'пятьдесят': 50, 'шестьдесят': 60, 'семьдесят': 70, 'восемьдесят': 80, 'девяносто': 90,\n        'сто': 100, 'двести': 200, 'триста': 300, 'четыреста': 400, 'пятьсот': 500, 'шестьсот': 600, 'семьсот': 700,\n        'восемьсот': 800, 'девятьсот': 900\n    }\n\n    words = text_number.split()\n    total = 0\n    current_number = 0\n\n    for word in words:\n        if word in number_words:\n            current_number += number_words[word]\n        else:\n            total += current_number * int(word)\n\n    return total + current_number\ntext_number = input(\"Введите число от 0 до 999 словами на русском: \")\nresult = to_int(text_number)\nprint(f\"Результат: {result}\")\n\n",
      "metadata": {},
      "execution_count": null,
      "outputs": []
    },
    {
      "cell_type": "code",
      "source": "#Задание 8\ndef to_int(text_number):\n    number_words = {\n        'ноль': 0, 'один': 1, 'два': 2, 'три': 3, 'четыре': 4, 'пять': 5, 'шесть': 6, 'семь': 7, 'восемь': 8, 'девять': 9,\n        'десять': 10, 'одиннадцать': 11, 'двенадцать': 12, 'тринадцать': 13, 'четырнадцать': 14, 'пятнадцать': 15,\n        'шестнадцать': 16, 'семнадцать': 17, 'восемнадцать': 18, 'девятнадцать': 19, 'двадцать': 20, 'тридцать': 30,\n        'сорок': 40, 'пятьдесят': 50, 'шестьдесят': 60, 'семьдесят': 70, 'восемьдесят': 80, 'девяносто': 90,\n        'сто': 100, 'двести': 200, 'триста': 300, 'четыреста': 400, 'пятьсот': 500, 'шестьсот': 600, 'семьсот': 700,\n        'восемьсот': 800, 'девятьсот': 900\n    }\n\n    words = text_number.split()\n    total = 0\n    current_number = 0\n    prev_word = None\n\n    for word in words:\n        if word not in number_words:\n            print(f\"{word} - некорректное слово.\")\n            return -1\n\n        if prev_word is not None and number_words[word] < number_words[prev_word]:\n            print(f\"{word} - некорректное расположение в числе.\")\n            return -1\n\n        current_number += number_words[word]\n        prev_word = word\n\n    return total + current_number\n\ntext_number = input(\"Введите число от 0 до 999 словами на русском: \")\nresult = to_int(text_number)\nif result != -1:\n    print(f\"Результат: {result}\")\n",
      "metadata": {},
      "execution_count": null,
      "outputs": []
    }
  ]
}