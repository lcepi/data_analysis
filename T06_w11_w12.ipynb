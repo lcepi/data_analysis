{
  "metadata": {
    "toc": {
      "base_numbering": 1,
      "nav_menu": {},
      "number_sections": true,
      "sideBar": true,
      "skip_h1_title": false,
      "title_cell": "Table of Contents",
      "title_sidebar": "Contents",
      "toc_cell": true,
      "toc_position": {},
      "toc_section_display": true,
      "toc_window_display": false
    },
    "varInspector": {
      "cols": {
        "lenName": 16,
        "lenType": 16,
        "lenVar": 40
      },
      "kernels_config": {
        "python": {
          "delete_cmd_postfix": "",
          "delete_cmd_prefix": "del ",
          "library": "var_list.py",
          "varRefreshCmd": "print(var_dic_list())"
        },
        "r": {
          "delete_cmd_postfix": ") ",
          "delete_cmd_prefix": "rm(",
          "library": "var_list.r",
          "varRefreshCmd": "cat(var_dic_list()) "
        }
      },
      "types_to_exclude": [
        "module",
        "function",
        "builtin_function_or_method",
        "instance",
        "_Feature"
      ],
      "window_display": false
    },
    "kernelspec": {
      "name": "python",
      "display_name": "Python (Pyodide)",
      "language": "python"
    },
    "language_info": {
      "codemirror_mode": {
        "name": "python",
        "version": 3
      },
      "file_extension": ".py",
      "mimetype": "text/x-python",
      "name": "python",
      "nbconvert_exporter": "python",
      "pygments_lexer": "ipython3",
      "version": "3.8"
    }
  },
  "nbformat_minor": 4,
  "nbformat": 4,
  "cells": [
    {
      "cell_type": "markdown",
      "source": "<h1>Table of Contents<span class=\"tocSkip\"></span></h1>\n<div class=\"toc\"><ul class=\"toc-item\"><li><span><a href=\"#Обработка-и-анализ-данных-в-Numpy-массивах\" data-toc-modified-id=\"Обработка-и-анализ-данных-в-Numpy-массивах-1\"><span class=\"toc-item-num\">1&nbsp;&nbsp;</span>Обработка и анализ данных в Numpy-массивах</a></span></li></ul></div>",
      "metadata": {
        "toc": true
      }
    },
    {
      "cell_type": "markdown",
      "source": "\n\n\n# Обработка и анализ данных в Numpy-массивах",
      "metadata": {}
    },
    {
      "cell_type": "markdown",
      "source": "<p style=\"font-size:125%; color:#119988; background-color:#EEE\">Задание 1</p>\n\nДано: списки `a,b=[1,1,1],[3,3,3]`\n\nСоздать одномерные массивы A и B из списков а и b.\n\nВычислить выражение $-((B-А)*(B/2))$",
      "metadata": {}
    },
    {
      "cell_type": "code",
      "source": "import numpy as np",
      "metadata": {},
      "execution_count": 1,
      "outputs": []
    },
    {
      "cell_type": "code",
      "source": "#1 \nimport numpy as np\na, b = [1, 1, 1], [3, 3, 3]\nA = np.array(a)\nB = np.array(b)\nresult = -((B - A) * (B / 2))\nprint(result)\n\n",
      "metadata": {},
      "execution_count": 135,
      "outputs": []
    },
    {
      "cell_type": "markdown",
      "source": "<p style=\"font-size:125%; color:#119988; background-color:#EEE\">Задание 2</p>\n\nИспользуя как можно меньше операций в исходном массиве \"шахматная доска\" np.zeros((8,8)), добиться расстановки кодов \"шахматных фигур\".\n\nОжидаемый результат:\n```\n[[-4., -3., -2., -6., -5., -2., -3., -4.],\n [-1., -1., -1., -1., -1., -1., -1., -1.],\n [0., 0., 0., 0., 0., 0., 0., 0.],\n [0., 0., 0., 0., 0., 0., 0., 0.],\n [0., 0., 0., 0., 0., 0., 0., 0.],\n [0., 0., 0., 0., 0., 0., 0., 0.],\n [1., 1., 1., 1., 1., 1., 1., 1.],\n [4., 3., 2., 6., 5., 2., 3., 4.]]\n ```",
      "metadata": {}
    },
    {
      "cell_type": "code",
      "source": "#2. \nimport numpy as np\n\n# Создание \"шахматной доски\" размером 8x8\nchessboard = np.zeros((8, 8))\n\n# Расстановка кодов \"шахматных фигур\"\nchessboard[0, :] = [4, 3, 2, 6, 5, 2, 3, 4]\nchessboard[1, :] = 1\nchessboard[-1, :] = [-4, -3, -2, -6, -5, -2, -3, -4]\n\nprint(chessboard)\n\n",
      "metadata": {},
      "execution_count": null,
      "outputs": []
    },
    {
      "cell_type": "markdown",
      "source": "<p style=\"font-size:125%; color:#119988; background-color:#EEE\">Задание 3</p>\n\nСредствами NumPy рассчитать произведения четных чисел от 2 до 20 на ближайшие к ним бОльшие нечетные числа",
      "metadata": {}
    },
    {
      "cell_type": "code",
      "source": "# 3. Ваш код здесь\nimport numpy as np\n\n# Создание массивов четных и нечетных чисел\nevens = np.arange(2, 21, 2)\nodds = np.arange(3, 22, 2)\n\n# Рассчет произведений четных чисел на ближайшие к ним большие нечетные числа\nproducts = evens * odds\n\nprint(products)\n\n",
      "metadata": {},
      "execution_count": 33,
      "outputs": []
    },
    {
      "cell_type": "markdown",
      "source": "<p style=\"font-size:125%; color:#119988; background-color:#EEE\">Задание 4</p>\n\nСгенерировать двумерный массив *arr* размерности (4, 7), состоящий из случайных действительных чисел, равномерно распределенных в дипазоне от 0 до 20. Нормализовать значения массива так, что после нормализации максимальный элемент масива будет равен 1.0, минимальный 0.0. Значения округлить (с помощью `np.round()`) до четырех десятичных знаков.",
      "metadata": {}
    },
    {
      "cell_type": "code",
      "source": "# 4. Ваш код здесь\nimport numpy as np\n\n# Генерация двумерного массива случайных действительных чисел\narr = np.random.uniform(0, 20, (4, 7))\n\n# Нормализация значений массива\nnormalized_arr = (arr - np.min(arr)) / (np.max(arr) - np.min(arr))\n\n# Округление значений до четырех десятичных знаков\nnormalized_arr = np.round(normalized_arr, 4)\n\nprint(normalized_arr)\n\n",
      "metadata": {},
      "execution_count": null,
      "outputs": []
    },
    {
      "cell_type": "markdown",
      "source": "<p style=\"font-size:125%; color:#119988; background-color:#EEE\">Задание 5</p>\n\n5. Имеется массив my_array\n```\nmy_array = np.array([[1,2,3,4,5],\n                [6,7,8,9,10],\n                [11,12,13,14,15],\n                [16,17,18,19,20],\n                [21,22,23,24,25]])\n```\nНапишите код, с помощью которого можно извлечь из него центральный фрагмент размером 3 х 3, с числами 7, 8, 9, 12, 13, 14, 17, 18, 19.",
      "metadata": {}
    },
    {
      "cell_type": "code",
      "source": "# 5. Ваш код здесь\n\nimport numpy as np\nmy_array = np.array([[1, 2, 3, 4, 5],\n                     [6, 7, 8, 9, 10],\n                     [11, 12, 13, 14, 15],\n                     [16, 17, 18, 19, 20],\n                     [21, 22, 23, 24, 25]])\ncenter_fragment = my_array[1:4, 1:4]\nprint(center_fragment)\n\n\n\n\n",
      "metadata": {},
      "execution_count": 32,
      "outputs": []
    },
    {
      "cell_type": "markdown",
      "source": "<p style=\"font-size:125%; color:#119988; background-color:#EEE\">Задание 6</p>\n\nСоздайте массив *my_sin*, состоящий из синусов элементов массива *my_array*.\nПосчитайте, чему равна сумма элементов полученного массива. Ответ округлите до\nтрёх цифр после запятой.",
      "metadata": {}
    },
    {
      "cell_type": "code",
      "source": "# 6. \nimport numpy as np\n\nmy_array = np.array([[1, 2, 3, 4, 5],\n                     [6, 7, 8, 9, 10],\n                     [11, 12, 13, 14, 15],\n                     [16, 17, 18, 19, 20],\n                     [21, 22, 23, 24, 25]])\n\nmy_sin = np.sin(my_array)\nsum_of_sin = np.sum(my_sin)\nsum_of_sin_rounded = round(sum_of_sin, 3)\nprint(sum_of_sin_rounded)\n",
      "metadata": {},
      "execution_count": null,
      "outputs": []
    },
    {
      "cell_type": "markdown",
      "source": "<p style=\"font-size:125%; color:#119988; background-color:#EEE\">Задание 7</p>\n\nСоздать матрицу из 20 случайных целых чисел от 0 до 100. Получить второе сверху значение в матрице. Определить индекс этого значения.",
      "metadata": {}
    },
    {
      "cell_type": "code",
      "source": "# 7. \nimport numpy as np\n# Создание матрицы из 20 случайных целых чисел от 0 до 100\nmatrix = np.random.randint(0, 100, (4, 5))\n# Получение второго сверху значения в матрице\nsecond_top_value = matrix[1, 0]\n# Определение индекса этого значения\nindex_of_value = np.where(matrix == second_top_value)\nprint(\"Матрица:\")\nprint(matrix)\nprint(\"\\nВторое сверху значение:\", second_top_value)\nprint(\"Индекс этого значения:\", (index_of_value[0][0], index_of_value[1][0]))\n",
      "metadata": {},
      "execution_count": null,
      "outputs": []
    },
    {
      "cell_type": "markdown",
      "source": "<p style=\"font-size:125%; color:#119988; background-color:#EEE\">Задание 8</p>\n\nЗадать два двухмерных массива *ar1* и *ar2* размерности (4, 7), состоящих из случайных целых чисел в пределах от 0 до 10. Построить двухмерный массив размерности (4, 7), каждый элемент которого представляет собой максимум (минимум, среднее) из двух значений, находящихся на аналогичной позиции в массивах *ar1*, *ar2*.",
      "metadata": {}
    },
    {
      "cell_type": "code",
      "source": "# 8. Ваш код здесь\n\nimport numpy as np\n\n# Задание двух двумерных массивов ar1 и ar2 размерности (4, 7) из случайных целых чисел от 0 до 10\nar1 = np.random.randint(0, 11, (4, 7))\nar2 = np.random.randint(0, 11, (4, 7))\n\n# Построение двумерного массива, каждый элемент которого представляет собой максимум из двух значений\nmax_array = np.maximum(ar1, ar2)\n\n# Построение двумерного массива, каждый элемент которого представляет собой минимум из двух значений\nmin_array = np.minimum(ar1, ar2)\n\n# Построение двумерного массива, каждый элемент которого представляет собой среднее из двух значений\nmean_array = np.mean(np.array([ar1, ar2]), axis=0)\n\nprint(\"ar1:\")\nprint(ar1)\nprint(\"\\nar2:\")\nprint(ar2)\nprint(\"\\nМаксимум из двух значений:\")\nprint(max_array)\nprint(\"\\nМинимум из двух значений:\")\nprint(min_array)\nprint(\"\\nСреднее из двух значений:\")\nprint(mean_array)\n",
      "metadata": {},
      "execution_count": null,
      "outputs": []
    },
    {
      "cell_type": "markdown",
      "source": "<p style=\"font-size:125%; color:#119988; background-color:#EEE\">Задание 9</p>\n\nИмеется массив *great_array*\n```\nfirst = [x**(1/2) for x in range(100)]\nsecond = [x**(1/3) for x in range(100, 200)]\nthird = [x/y for x in range(200,300,2) for y in [3,5]]\ngreat_array = np.array([first, second, third]).T\n```\nЧему равна сумма элементов массива great_array, значение которых больше 50?",
      "metadata": {}
    },
    {
      "cell_type": "code",
      "source": "#9 Ваш код здесь\n\nimport numpy as np\nfirst = [x**(1/2) for x in range(100)]\nsecond = [x**(1/3) for x in range(100, 200)]\nthird = [x/y for x in range(200, 300, 2) for y in [3, 5]]\ngreat_array = np.array([first, second, third]).T\n# Вычисление суммы элементов массива great_array, значение которых больше 50\nsum_greater_than_50 = np.sum(great_array[great_array > 50])\nprint(sum_greater_than_50)\n\n\n",
      "metadata": {},
      "execution_count": 28,
      "outputs": []
    },
    {
      "cell_type": "markdown",
      "source": "<p style=\"font-size:125%; color:#119988; background-color:#EEE\">Задание 10</p>\n\nПереведите массив *great_array* в одномерную форму. Какое значение в получившемся массиве имеет элемент с индексом 150?",
      "metadata": {}
    },
    {
      "cell_type": "code",
      "source": "# 10. Ваш код здесь\nimport numpy as np\nfirst = [x**(1/2) for x in range(100)]\nsecond = [x**(1/3) for x in range(100, 200)]\nthird = [x/y for x in range(200, 300, 2) for y in [3, 5]]\ngreat_array = np.array([first, second, third]).T\n# Перевод массива great_array в одномерную форму\ngreat_array_flattened = great_array.flatten()\n# Определение значения элемента с индексом 150\nvalue_at_index_150 = great_array_flattened[150]\nprint(value_at_index_150)\n\n",
      "metadata": {},
      "execution_count": 29,
      "outputs": []
    },
    {
      "cell_type": "markdown",
      "source": "<p style=\"font-size:125%; color:#119988; background-color:#EEE\">Задание 11</p>\n\nПолучить индексы, для которых элементы массивов A и B совпадают.\n```\nA = np.array([1,2,3,2,3,4,3,4,5,6])\nB = np.array([7,2,10,2,7,4,9,4,9,8])\n```\nОжидается результат:\n\n```\narray([1, 3, 5, 7])\n```",
      "metadata": {}
    },
    {
      "cell_type": "code",
      "source": "# 11.\nimport numpy as np\nA = np.array([1, 2, 3, 2, 3, 4, 3, 4, 5, 6])\nB = np.array([7, 2, 10, 2, 7, 4, 9, 4, 9, 8])\n# Получение индексов, для которых элементы массивов A и B совпадают\nmatching_indices = np.where(A == B)\nprint(matching_indices)\n\n",
      "metadata": {},
      "execution_count": 12,
      "outputs": []
    },
    {
      "cell_type": "markdown",
      "source": "<p style=\"font-size:125%; color:#119988; background-color:#EEE\">Задание 12</p>\n\nСоздайте три массива: массив четных чисел от 2 до 20, массив ближайших к числам первого массива бОльших нечётных чисел, массив векторного произведения первого массива на второй. Соедините все массивы в один двумерный массив, расположив исходные массивы в столбцах.",
      "metadata": {}
    },
    {
      "cell_type": "code",
      "source": "# 12.  Ваш код здесь\nimport numpy as np\n# Создание массива четных чисел от 2 до 20\narray_even = np.arange(2, 21, 2)\n# Создание массива ближайших к числам первого массива бОльших нечетных чисел\narray_odd_greater = array_even + 1\n# Создание массива векторного произведения первого массива на второй\narray_cross_product = np.cross(array_even, array_odd_greater)\n# Соединение всех массивов в один двумерный массив\nresult_array = np.column_stack((array_even, array_odd_greater, array_cross_product))\nprint(result_array)\n",
      "metadata": {},
      "execution_count": 3,
      "outputs": []
    }
  ]
}